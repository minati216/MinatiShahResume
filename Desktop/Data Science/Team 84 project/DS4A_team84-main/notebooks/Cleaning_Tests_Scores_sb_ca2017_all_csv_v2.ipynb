{
 "cells": [
  {
   "cell_type": "code",
   "execution_count": null,
   "metadata": {},
   "outputs": [],
   "source": [
    "file1 = open('commondata/sb_ca2017_all_csv_v2.txt', 'r') \n",
    "Lines = file1.readlines()\n",
    "file2 = open('cleaneddata.txt', 'w') \n",
    "for x in range(0,3264975):\n",
    "    if \"County Code\" in Lines[x].split(\",\")[0]:\n",
    "        print(Lines[x])\n",
    "        file2.writelines(Lines[x]) \n",
    "    elif '\"00\"' == Lines[x].split(\",\")[0]:\n",
    "        continue\n",
    "    elif '\"00000\"' == Lines[x].split(\",\")[1]:\n",
    "        #then skip\n",
    "        continue\n",
    "    \n",
    "    elif '\"0000000\"' != Lines[x].split(\",\")[2]:\n",
    "        continue\n",
    "        #then skip\n",
    "    file2.writelines(Lines[x]) \n",
    "# examples:\n",
    "#     \"County Code\": goes from 00 -  58 -we dont want \"00\"\n",
    "#     \"County Code\",\"District Code\",\"School Code\",\n",
    "#     \"00\",\"00000\",\"0000000\" -- remove because it's state-wide data\n",
    "#     \"01\",\"00000\",\"0000000\" -- remove because this is the summary of the county \n",
    "#     \"01\",\"10017\",\"0000000\" -- keep it because this data at the district total: total for all schools\n",
    "#     \"01\",\"10017\",\"0112607\" -- we dont need any of these because it's data al the school level\n",
    "#                                 - remove because school code is dif. than 00000000\n",
    "file2.close() \n",
    "\n",
    "\n",
    "\n",
    "\n"
   ]
  }
 ],
 "metadata": {
  "kernelspec": {
   "display_name": "Python 3",
   "language": "python",
   "name": "python3"
  },
  "language_info": {
   "codemirror_mode": {
    "name": "ipython",
    "version": 3
   },
   "file_extension": ".py",
   "mimetype": "text/x-python",
   "name": "python",
   "nbconvert_exporter": "python",
   "pygments_lexer": "ipython3",
   "version": "3.7.3"
  }
 },
 "nbformat": 4,
 "nbformat_minor": 2
}
